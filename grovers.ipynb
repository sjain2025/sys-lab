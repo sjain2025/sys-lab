{
 "cells": [
  {
   "cell_type": "code",
   "execution_count": 1,
   "metadata": {},
   "outputs": [],
   "source": [
    "def is_safe(graph, color, vertex, c):\n",
    "    for i in range(len(graph)):\n",
    "        if graph[vertex][i] == 1 and color[i] == c:\n",
    "            return False\n",
    "    return True"
   ]
  },
  {
   "cell_type": "code",
   "execution_count": 2,
   "metadata": {},
   "outputs": [],
   "source": [
    "def graph_coloring_util(graph, m, color, vertex):\n",
    "    if vertex == len(graph):\n",
    "        return True\n",
    "\n",
    "    for c in range(1, m + 1):\n",
    "        if is_safe(graph, color, vertex, c):\n",
    "            color[vertex] = c\n",
    "            if graph_coloring_util(graph, m, color, vertex + 1):\n",
    "                return True\n",
    "            color[vertex] = 0\n",
    "    return False"
   ]
  },
  {
   "cell_type": "code",
   "execution_count": 4,
   "metadata": {},
   "outputs": [],
   "source": [
    "def graph_coloring(graph, m):\n",
    "    color = [0] * len(graph)\n",
    "    if not graph_coloring_util(graph, m, color, 0):\n",
    "        return False\n",
    "    return True"
   ]
  },
  {
   "cell_type": "code",
   "execution_count": 5,
   "metadata": {},
   "outputs": [
    {
     "data": {
      "text/plain": [
       "True"
      ]
     },
     "execution_count": 5,
     "metadata": {},
     "output_type": "execute_result"
    }
   ],
   "source": [
    "graph = [[0, 1, 1, 1],\n",
    "         [1, 0, 0, 1],\n",
    "         [1, 0, 0, 1],\n",
    "         [1, 1, 1, 0]]\n",
    "\n",
    "m = 3\n",
    "graph_coloring(graph, m)"
   ]
  },
  {
   "cell_type": "code",
   "execution_count": null,
   "metadata": {},
   "outputs": [],
   "source": [
    "from qiskit import QuantumCircuit, Aer, execute\n",
    "import numpy as np\n",
    "\n",
    "def grovers_oracle(graph, n_qubits):\n",
    "    pass\n",
    "\n",
    "def grovers_algorithm(graph, m):\n",
    "    n_qubits = len(graph)\n",
    "    circuit = QuantumCircuit(n_qubits)\n",
    "    circuit.h(range(n_qubits))\n",
    "    grovers_oracle(graph, n_qubits)\n",
    "    circuit.measure_all()\n",
    "    simulator = Aer.get_backend('qasm_simulator')\n",
    "    counts = execute(circuit, backend=simulator, shots=1024).result().get_counts()\n",
    "    return counts"
   ]
  }
 ],
 "metadata": {
  "interpreter": {
   "hash": "31f2aee4e71d21fbe5cf8b01ff0e069b9275f58929596ceb00d14d90e3e16cd6"
  },
  "kernelspec": {
   "display_name": "Python 3.9.6 64-bit",
   "language": "python",
   "name": "python3"
  },
  "language_info": {
   "codemirror_mode": {
    "name": "ipython",
    "version": 3
   },
   "file_extension": ".py",
   "mimetype": "text/x-python",
   "name": "python",
   "nbconvert_exporter": "python",
   "pygments_lexer": "ipython3",
   "version": "3.9.6"
  },
  "orig_nbformat": 4
 },
 "nbformat": 4,
 "nbformat_minor": 2
}
