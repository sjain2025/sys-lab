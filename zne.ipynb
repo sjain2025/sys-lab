{
 "cells": [
  {
   "cell_type": "code",
   "execution_count": 3,
   "metadata": {},
   "outputs": [],
   "source": [
    "from qiskit import QuantumCircuit, transpile\n",
    "from qiskit_aer.noise import (\n",
    "    NoiseModel,\n",
    "    depolarizing_error\n",
    ")\n",
    "from scipy.optimize import curve_fit"
   ]
  },
  {
   "cell_type": "code",
   "execution_count": 4,
   "metadata": {},
   "outputs": [],
   "source": [
    "def run_with_noise(circuit, noise_level):\n",
    "    noise_model = NoiseModel()\n",
    "    depol_error = depolarizing_error(noise_level, 1)\n",
    "    noise_model.add_all_qubit_quantum_error(depol_error, ['cx'])\n",
    "    simulator = Aer.get_backend('qasm_simulator')\n",
    "    transpiled_circuit = transpile(circuit, simulator)\n",
    "    result = simulator.run(transpiled_circuit, noise_model=noise_model).result()\n",
    "    counts = result.get_counts()\n",
    "    return counts"
   ]
  },
  {
   "cell_type": "code",
   "execution_count": null,
   "metadata": {},
   "outputs": [],
   "source": [
    "def extrapolate_to_zero_noise(noise_levels, results):\n",
    "    def fit_func(noise, a, b):\n",
    "        return a + b * noise\n",
    "    popt, _ = curve_fit(fit_func, noise_levels, results)\n",
    "    zero_noise_estimate = fit_func(0, *popt)\n",
    "    return zero_noise_estimate"
   ]
  },
  {
   "cell_type": "code",
   "execution_count": null,
   "metadata": {},
   "outputs": [],
   "source": [
    "qc = QuantumCircuit(2, 2)\n",
    "qc.h(0)\n",
    "qc.cx(0, 1)\n",
    "qc.measure([0, 1], [0, 1])\n",
    "\n",
    "noise_levels = [0.01, 0.05, 0.1]\n",
    "results = []\n",
    "\n",
    "for noise in noise_levels:\n",
    "    result = run_with_noise(qc, noise)\n",
    "    results.append(result.get('00', 0))"
   ]
  },
  {
   "cell_type": "code",
   "execution_count": null,
   "metadata": {},
   "outputs": [],
   "source": [
    "zero_noise_estimate = extrapolate_to_zero_noise(noise_levels, results)\n",
    "print(\"Estimated zero noise result for '00' outcome:\", zero_noise_estimate)"
   ]
  }
 ],
 "metadata": {
  "interpreter": {
   "hash": "31f2aee4e71d21fbe5cf8b01ff0e069b9275f58929596ceb00d14d90e3e16cd6"
  },
  "kernelspec": {
   "display_name": "Python 3.9.6 64-bit",
   "language": "python",
   "name": "python3"
  },
  "language_info": {
   "codemirror_mode": {
    "name": "ipython",
    "version": 3
   },
   "file_extension": ".py",
   "mimetype": "text/x-python",
   "name": "python",
   "nbconvert_exporter": "python",
   "pygments_lexer": "ipython3",
   "version": "3.9.6"
  },
  "orig_nbformat": 4
 },
 "nbformat": 4,
 "nbformat_minor": 2
}
