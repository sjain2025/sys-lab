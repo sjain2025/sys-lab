{
 "cells": [
  {
   "cell_type": "code",
   "execution_count": null,
   "metadata": {},
   "outputs": [],
   "source": [
    "!pip3 install qiskit\n",
    "!pip3 install qiskit_ibm_runtime\n",
    "!pip3 install qiskit_ibm_provider\n",
    "!pip3 install matplotlib\n",
    "!pip3 install pylatexenc\n",
    "!pip3 install qiskit-aer"
   ]
  },
  {
   "cell_type": "code",
   "execution_count": 126,
   "metadata": {},
   "outputs": [],
   "source": [
    "from qiskit import QuantumCircuit\n",
    "from qiskit_aer import AerSimulator\n",
    "from qiskit_aer.noise import (\n",
    "    NoiseModel,\n",
    "    depolarizing_error\n",
    ")"
   ]
  },
  {
   "cell_type": "code",
   "execution_count": 3,
   "metadata": {},
   "outputs": [
    {
     "data": {
      "text/plain": [
       "'0.24.1'"
      ]
     },
     "execution_count": 3,
     "metadata": {},
     "output_type": "execute_result"
    }
   ],
   "source": [
    "qiskit_ibm_runtime.version.get_version_info()"
   ]
  },
  {
   "cell_type": "code",
   "execution_count": 4,
   "metadata": {},
   "outputs": [
    {
     "data": {
      "text/plain": [
       "'1.1.1'"
      ]
     },
     "execution_count": 4,
     "metadata": {},
     "output_type": "execute_result"
    }
   ],
   "source": [
    "qiskit.version.get_version_info()"
   ]
  },
  {
   "cell_type": "code",
   "execution_count": 47,
   "metadata": {},
   "outputs": [],
   "source": [
    "# from qiskit_ibm_provider import IBMProvider\n",
    "# IBMProvider.save_account(token='a51ea2bd5feec0c7addc9b3f75cb1bcb8f6e3e486f9e9b8ea005c3dc60199de3db8dcf14857b114d90e096098c518fcbb2602f77106145000cf233446b9f811c', instance='ibm-q/open/main')"
   ]
  },
  {
   "cell_type": "code",
   "execution_count": 12,
   "metadata": {},
   "outputs": [
    {
     "data": {
      "text/plain": [
       "'ibm_kyoto'"
      ]
     },
     "execution_count": 12,
     "metadata": {},
     "output_type": "execute_result"
    }
   ],
   "source": [
    "service = QiskitRuntimeService(channel=\"ibm_quantum\")\n",
    "backend = service.least_busy(operational=True, simulator=False)\n",
    "backend.name"
   ]
  },
  {
   "cell_type": "code",
   "execution_count": 127,
   "metadata": {},
   "outputs": [],
   "source": [
    "def create_noise_model():\n",
    "    noise_model = NoiseModel()  \n",
    "    qubit_depolarizing_error = depolarizing_error(0.01, 1)    \n",
    "    noise_model.add_all_qubit_quantum_error(qubit_depolarizing_error, ['h', 'x'])\n",
    "    return noise_model"
   ]
  },
  {
   "cell_type": "code",
   "execution_count": 132,
   "metadata": {},
   "outputs": [
    {
     "data": {
      "text/plain": [
       "0.5"
      ]
     },
     "execution_count": 132,
     "metadata": {},
     "output_type": "execute_result"
    }
   ],
   "source": [
    "N = 175\n",
    "noise_model = create_noise_model()\n",
    "\n",
    "qc = QuantumCircuit(1, 1)\n",
    "for _ in range(N):\n",
    "    qc.h(0)\n",
    "    qc.x(0)\n",
    "    qc.h(0)\n",
    "qc.x(0)\n",
    "qc.measure(0, 0)\n",
    "\n",
    "simulator = AerSimulator(noise_model=noise_model)\n",
    "result = simulator.run(qc).result()\n",
    "counts = result.get_counts()\n",
    "\n",
    "bit_value = counts.get('1', 0) / sum(counts.values())\n",
    "\n",
    "bit_value"
   ]
  },
  {
   "cell_type": "code",
   "execution_count": null,
   "metadata": {},
   "outputs": [],
   "source": [
    "#    TEST RUN:\n",
    "#    N     |     bit value\n",
    "#    1     |     0.98046875\n",
    "#    5     |     0.9267578125\n",
    "#    10    |     0.873046875\n",
    "#    25    |     0.70703125\n",
    "#    ...\n",
    "#    100   |     0.5751953125\n",
    "#    125   |     0.537109375\n",
    "#    150   |     0.5068359375\n",
    "#    175   |     0.5"
   ]
  }
 ],
 "metadata": {
  "interpreter": {
   "hash": "31f2aee4e71d21fbe5cf8b01ff0e069b9275f58929596ceb00d14d90e3e16cd6"
  },
  "kernelspec": {
   "display_name": "Python 3.9.6 64-bit",
   "language": "python",
   "name": "python3"
  },
  "language_info": {
   "codemirror_mode": {
    "name": "ipython",
    "version": 3
   },
   "file_extension": ".py",
   "mimetype": "text/x-python",
   "name": "python",
   "nbconvert_exporter": "python",
   "pygments_lexer": "ipython3",
   "version": "3.9.6"
  },
  "orig_nbformat": 4
 },
 "nbformat": 4,
 "nbformat_minor": 2
}
